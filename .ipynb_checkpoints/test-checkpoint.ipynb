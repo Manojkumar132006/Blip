{
 "cells": [
  {
   "cell_type": "code",
   "execution_count": 8,
   "id": "59aea181-93b1-43fd-ada8-cc880ea48b2c",
   "metadata": {},
   "outputs": [
    {
     "name": "stdout",
     "output_type": "stream",
     "text": [
      "[roleSchema(name='test_role', description=None, permissions=[], cluster='6870a8de45b98508a2d6bb71', created_at='2025-07-11T12:22:11.232269'), roleSchema(name='test_role2', description=None, permissions=[], cluster='6870a8de45b98508a2d6bb71', created_at='2025-07-11T12:24:20.665262')]\n",
      "test_role\n",
      "test_role2\n"
     ]
    }
   ],
   "source": [
    "from src.models.clusters import Cluster\n",
    "new_c=Cluster(id=\"6870a8de45b98508a2d6bb71\")\n",
    "new_c.load()\n",
    "print(new_c.roles)\n",
    "for role in new_c.roles:\n",
    "    print(role.name)"
   ]
  },
  {
   "cell_type": "code",
   "execution_count": null,
   "id": "b37d8af9-e02e-4060-b07a-3d4eac04065e",
   "metadata": {},
   "outputs": [],
   "source": []
  }
 ],
 "metadata": {
  "kernelspec": {
   "display_name": "Python 3 (ipykernel)",
   "language": "python",
   "name": "python3"
  },
  "language_info": {
   "codemirror_mode": {
    "name": "ipython",
    "version": 3
   },
   "file_extension": ".py",
   "mimetype": "text/x-python",
   "name": "python",
   "nbconvert_exporter": "python",
   "pygments_lexer": "ipython3",
   "version": "3.12.3"
  }
 },
 "nbformat": 4,
 "nbformat_minor": 5
}
