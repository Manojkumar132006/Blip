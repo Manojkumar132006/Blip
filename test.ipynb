{
 "cells": [
  {
   "cell_type": "code",
   "execution_count": 5,
   "id": "59aea181-93b1-43fd-ada8-cc880ea48b2c",
   "metadata": {},
   "outputs": [
    {
     "ename": "ValueError",
     "evalue": "Cluster with id 6879dc254506dd1a4302a381 not found.",
     "output_type": "error",
     "traceback": [
      "\u001b[31m---------------------------------------------------------------------------\u001b[39m",
      "\u001b[31mValueError\u001b[39m                                Traceback (most recent call last)",
      "\u001b[36mCell\u001b[39m\u001b[36m \u001b[39m\u001b[32mIn[5]\u001b[39m\u001b[32m, line 9\u001b[39m\n\u001b[32m      2\u001b[39m new_c=ClusterManager()\n\u001b[32m      3\u001b[39m new_c.add({\n\u001b[32m      4\u001b[39m     \u001b[33m\"\u001b[39m\u001b[33mname\u001b[39m\u001b[33m\"\u001b[39m:\u001b[33m\"\u001b[39m\u001b[33mtest4\u001b[39m\u001b[33m\"\u001b[39m,\n\u001b[32m      5\u001b[39m     \u001b[33m\"\u001b[39m\u001b[33madmin\u001b[39m\u001b[33m\"\u001b[39m:\u001b[33m\"\u001b[39m\u001b[33mtest_4\u001b[39m\u001b[33m\"\u001b[39m,\n\u001b[32m      6\u001b[39m     \u001b[33m\"\u001b[39m\u001b[33mmoderators\u001b[39m\u001b[33m\"\u001b[39m:[\u001b[33m\"\u001b[39m\u001b[33mtest_4\u001b[39m\u001b[33m\"\u001b[39m],\n\u001b[32m      7\u001b[39m     \u001b[33m\"\u001b[39m\u001b[33mmembers\u001b[39m\u001b[33m\"\u001b[39m:[\u001b[33m\"\u001b[39m\u001b[33mtest_4\u001b[39m\u001b[33m\"\u001b[39m]\n\u001b[32m      8\u001b[39m })\n\u001b[32m----> \u001b[39m\u001b[32m9\u001b[39m \u001b[43mnew_c\u001b[49m\u001b[43m.\u001b[49m\u001b[43mload\u001b[49m\u001b[43m(\u001b[49m\u001b[43m)\u001b[49m\n\u001b[32m     10\u001b[39m \u001b[38;5;28mprint\u001b[39m(new_c.instance)\n\u001b[32m     11\u001b[39m \u001b[38;5;28mprint\u001b[39m(new_c.name)\n",
      "\u001b[36mFile \u001b[39m\u001b[32mD:\\work\\Blip\\server\\src\\models\\clusters.py:28\u001b[39m, in \u001b[36mClusterManager.load\u001b[39m\u001b[34m(self)\u001b[39m\n\u001b[32m     26\u001b[39m \u001b[38;5;28mself\u001b[39m.instance = \u001b[38;5;28mself\u001b[39m.clusters.find_one({\u001b[33m\"\u001b[39m\u001b[33m_id\u001b[39m\u001b[33m\"\u001b[39m: \u001b[38;5;28mself\u001b[39m._id})\n\u001b[32m     27\u001b[39m \u001b[38;5;28;01mif\u001b[39;00m \u001b[38;5;129;01mnot\u001b[39;00m \u001b[38;5;28mself\u001b[39m.instance:\n\u001b[32m---> \u001b[39m\u001b[32m28\u001b[39m     \u001b[38;5;28;01mraise\u001b[39;00m \u001b[38;5;167;01mValueError\u001b[39;00m(\u001b[33mf\u001b[39m\u001b[33m\"\u001b[39m\u001b[33mCluster with id \u001b[39m\u001b[38;5;132;01m{\u001b[39;00m\u001b[38;5;28mself\u001b[39m._id\u001b[38;5;132;01m}\u001b[39;00m\u001b[33m not found.\u001b[39m\u001b[33m\"\u001b[39m)\n\u001b[32m     29\u001b[39m \u001b[38;5;28;01melse\u001b[39;00m:\n\u001b[32m     30\u001b[39m     \u001b[38;5;28mself\u001b[39m.instance = clusterSchema(**\u001b[38;5;28mself\u001b[39m.instance)\n",
      "\u001b[31mValueError\u001b[39m: Cluster with id 6879dc254506dd1a4302a381 not found."
     ]
    }
   ],
   "source": [
    "from src.models.clusters import ClusterManager\n",
    "new_c=ClusterManager()\n",
    "new_c.add({\n",
    "    \"name\":\"test4\",\n",
    "    \"admin\":\"test_4\",\n",
    "    \"moderators\":[\"test_4\"],\n",
    "    \"members\":[\"test_4\"]\n",
    "})\n",
    "new_c.load()\n",
    "print(new_c.instance)\n",
    "print(new_c.name)"
   ]
  },
  {
   "cell_type": "code",
   "execution_count": null,
   "id": "b37d8af9-e02e-4060-b07a-3d4eac04065e",
   "metadata": {},
   "outputs": [],
   "source": []
  }
 ],
 "metadata": {
  "kernelspec": {
   "display_name": "Python 3 (ipykernel)",
   "language": "python",
   "name": "python3"
  },
  "language_info": {
   "codemirror_mode": {
    "name": "ipython",
    "version": 3
   },
   "file_extension": ".py",
   "mimetype": "text/x-python",
   "name": "python",
   "nbconvert_exporter": "python",
   "pygments_lexer": "ipython3",
   "version": "3.12.3"
  }
 },
 "nbformat": 4,
 "nbformat_minor": 5
}
